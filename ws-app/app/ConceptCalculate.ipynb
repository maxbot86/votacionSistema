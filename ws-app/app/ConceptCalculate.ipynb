{
 "cells": [
  {
   "cell_type": "code",
   "execution_count": null,
   "metadata": {},
   "outputs": [],
   "source": [
    "\n",
    "        for partido in escanios_partidos:\n",
    "            print(partido)\n",
    "            print(escanios_partidos[partido])"
   ]
  },
  {
   "cell_type": "code",
   "execution_count": 1,
   "metadata": {},
   "outputs": [],
   "source": [
    "# Set values to work\n",
    "escanios_total = 100\n",
    "partidos_votos = [\n",
    "    (1,60),\n",
    "    (2,250),\n",
    "    (3,150)\n",
    "]"
   ]
  },
  {
   "cell_type": "code",
   "execution_count": 2,
   "metadata": {},
   "outputs": [],
   "source": [
    "#Create Diccionario para asigrnar los escaños definitivos\n",
    "escanios_partidos = {partido: 0 for partido, votos in partidos_votos}\n",
    "#Create array para almacenar los votos divididos de cada partido\n",
    "division_votos = []\n",
    "print(escanios_partidos)\n",
    "print(division_votos)"
   ]
  },
  {
   "cell_type": "code",
   "execution_count": 3,
   "metadata": {},
   "outputs": [],
   "source": [
    "# - Recorro los partidos y sus votos y realizo la lista con la division de los votos\n",
    "# para luego obtener los N mayores en base a la cantidad de escanios totales.\n",
    "for partido, votos in partidos_votos:\n",
    "    for i in range(1, escanios_total + 1):\n",
    "        division_votos.append((partido, votos / i))\n",
    "print(division_votos)"
   ]
  },
  {
   "cell_type": "code",
   "execution_count": 4,
   "metadata": {},
   "outputs": [],
   "source": [
    "# - Orderno por cantidad de Votos Descendentes utilizando como campo clave \n",
    "# la cantidad de votos que es el primer elemento del cada registro de DIVISION de VOTOS\n",
    "division_votos.sort(key=lambda x: x[1], reverse=True)\n",
    "print(division_votos)"
   ]
  },
  {
   "cell_type": "code",
   "execution_count": 6,
   "metadata": {},
   "outputs": [
    {
     "name": "stdout",
     "output_type": "stream",
     "text": [
      "{1: 26, 2: 110, 3: 64}\n"
     ]
    }
   ],
   "source": [
    "# - Obtengo lo primeros N elementos  de la lista de division de votos\n",
    "# y lo sumariso al partido correspondiente en el diccionario de escanios\n",
    "for i in range(escanios_total):\n",
    "    partido = division_votos[i][0]\n",
    "    escanios_partidos[partido] += 1\n",
    "\n",
    "print(escanios_partidos)"
   ]
  }
 ],
 "metadata": {
  "kernelspec": {
   "display_name": "Python 3",
   "language": "python",
   "name": "python3"
  },
  "language_info": {
   "codemirror_mode": {
    "name": "ipython",
    "version": 3
   },
   "file_extension": ".py",
   "mimetype": "text/x-python",
   "name": "python",
   "nbconvert_exporter": "python",
   "pygments_lexer": "ipython3",
   "version": "3.11.9"
  }
 },
 "nbformat": 4,
 "nbformat_minor": 2
}
